{
 "cells": [
  {
   "cell_type": "code",
   "execution_count": 23,
   "metadata": {},
   "outputs": [],
   "source": [
    "import cx_Oracle\n",
    "import os\n",
    "import pandas as pd\n",
    "\n",
    "\n",
    "connection = cx_Oracle.connect(\"pyora\", \"pyora\", \"ORCL19C\")\n",
    "sql = \"\"\"select x.*,j.post_name, j.dep_name\n",
    "  from (select t.emp_code,\n",
    "               t.branch_id,\n",
    "               t.report_name,\n",
    "               t.log_date Log_Date,\n",
    "               t.status_id,\n",
    "               t.ip_address,\n",
    "               t.host_name\n",
    "          from MANA0809.TBL_REPORT_AUDIT_LOG@UATR_BACKUP2 t\n",
    "         where to_date(t.log_date) = trunc(sysdate)) x,\n",
    "       \n",
    "       (select *\n",
    "          from (select x.*,\n",
    "                       row_number() over(partition by x.emp_code order by x.emp_code) as counts\n",
    "                  from (select * from tableau_employ_dtl@uatr_backup2)\n",
    "                       \n",
    "                       x) y\n",
    "         where y.counts = 1) j\n",
    "\n",
    " where j.emp_code = x.emp_code\"\"\"\n",
    "\n",
    "df = pd.read_sql(sql,con=connection)\n"
   ]
  },
  {
   "cell_type": "code",
   "execution_count": null,
   "metadata": {},
   "outputs": [],
   "source": [
    "\n",
    "data = pd.DataFrame(df)\n",
    "cwd = os.getcwd()\n",
    "path = r'C:\\Users\\356285\\Desktop\\AML\\data\\low1.csv'\n",
    "df.to_csv(path)\n",
    "\n",
    "data1 = pd.read_csv(\"low1.csv\")\n",
    "data2 = data1.drop_duplicates(subset=['EMP_CODE','LOG_DATE','IP_ADDRESS','REPORT_NAME','STATUS_ID','HOST_NAME','DEP_NAME'], keep='last')\n",
    "\n",
    "data2['COUNT'] =1 \n",
    "group_data = data2.groupby(['DEP_NAME','REPORT_NAME','POST_NAME'])['COUNT'].count() #sum function\n",
    "group_data = group_data.reset_index()\n",
    "\n",
    "group_data['dummy'] = 0\n",
    "group_data3 = group_data.set_index(['DEP_NAME', 'REPORT_NAME', 'dummy'])\n",
    "cwd = os.getcwd()\n",
    "\n",
    "group_data3.to_excel('Low.xlsx', sheet_name='Sheet1')\n",
    "\n",
    "dd = pd.read_excel('Low.xlsx', sheet_name='Sheet1')\n",
    "dd.drop(axis=1, labels='dummy', inplace=True)\n",
    "\n",
    "\n",
    "writer = pd.ExcelWriter('FinalData.xlsx', engine='xlsxwriter')\n",
    "dd.to_excel(writer, sheet_name='Summary')\n",
    "data2.to_excel(writer, sheet_name='Report',index=False)\n",
    "workbook  = writer.book\n",
    "worksheet = writer.sheets['Summary']\n",
    "format1 = workbook.add_format({'bg_color': '#FFC7CE',\n",
    "                               'font_color': '#9C0006'})\n",
    "start_row = 1\n",
    "start_col = 1\n",
    "end_row = len(dd)\n",
    "end_cold = start_col\n",
    "\n",
    "worksheet.conditional_format(start_row, start_col, end_row, end_cold,\n",
    "                             {'type':     'cell',\n",
    "                              'criteria': '>',\n",
    "                              'value':    20,\n",
    "                              'format':   format1})\n",
    "writer.save()\n",
    "\n"
   ]
  },
  {
   "cell_type": "code",
   "execution_count": null,
   "metadata": {},
   "outputs": [],
   "source": []
  }
 ],
 "metadata": {
  "kernelspec": {
   "display_name": "Python 3",
   "language": "python",
   "name": "python3"
  },
  "language_info": {
   "codemirror_mode": {
    "name": "ipython",
    "version": 3
   },
   "file_extension": ".py",
   "mimetype": "text/x-python",
   "name": "python",
   "nbconvert_exporter": "python",
   "pygments_lexer": "ipython3",
   "version": "3.7.6"
  }
 },
 "nbformat": 4,
 "nbformat_minor": 4
}
